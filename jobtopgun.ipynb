{
 "cells": [
  {
   "cell_type": "markdown",
   "metadata": {},
   "source": [
    "## Job Top Gun Scraping"
   ]
  },
  {
   "cell_type": "markdown",
   "metadata": {},
   "source": [
    "URL Keywords\n",
    "\n",
    "sort = POST_DATE_DESC, RELEVANCE_DESC"
   ]
  },
  {
   "cell_type": "code",
   "execution_count": 9,
   "metadata": {},
   "outputs": [],
   "source": [
    "from selenium import webdriver\n",
    "from selenium.webdriver.common.keys import Keys\n",
    "from selenium.webdriver.common.by import By"
   ]
  },
  {
   "cell_type": "code",
   "execution_count": 38,
   "metadata": {},
   "outputs": [],
   "source": [
    "MAIN_URL = \"https://www.jobtopgun.com/\"\n",
    "JOBS_URL = \"https://www.jobtopgun.com/%E0%B8%AB%E0%B8%B2%E0%B8%87%E0%B8%B2%E0%B8%99/Data?pg=1&sort=RELEVANCE_DESC&keyword=%22Data%22\""
   ]
  },
  {
   "cell_type": "code",
   "execution_count": 5,
   "metadata": {},
   "outputs": [],
   "source": [
    "driver = webdriver.Chrome()\n",
    "driver.get(MAIN_URL)"
   ]
  },
  {
   "cell_type": "code",
   "execution_count": 33,
   "metadata": {},
   "outputs": [],
   "source": []
  },
  {
   "cell_type": "code",
   "execution_count": 17,
   "metadata": {},
   "outputs": [
    {
     "data": {
      "text/plain": [
       "'tw-flex.tw-h-full.tw-w-full.tw-flex-1'"
      ]
     },
     "execution_count": 17,
     "metadata": {},
     "output_type": "execute_result"
    }
   ],
   "source": [
    "search_class = \"tw-flex tw-h-full tw-w-full tw-flex-1\".replace(\" \",\".\")\n",
    "search_class\n"
   ]
  },
  {
   "cell_type": "code",
   "execution_count": 35,
   "metadata": {},
   "outputs": [],
   "source": [
    "search_box = driver.find_elements(By.CLASS_NAME, search_class)"
   ]
  },
  {
   "cell_type": "code",
   "execution_count": 36,
   "metadata": {},
   "outputs": [
    {
     "data": {
      "text/plain": [
       "[<selenium.webdriver.remote.webelement.WebElement (session=\"4e683e1c53ecbb4b6b25aecbff358007\", element=\"D40D6C17D13B26BDA39C81D98AE3B9AF_element_71\")>]"
      ]
     },
     "execution_count": 36,
     "metadata": {},
     "output_type": "execute_result"
    }
   ],
   "source": [
    "search_box\n"
   ]
  },
  {
   "cell_type": "code",
   "execution_count": 37,
   "metadata": {},
   "outputs": [
    {
     "ename": "ElementNotInteractableException",
     "evalue": "Message: element not interactable\n  (Session info: chrome=115.0.5790.170)\nStacktrace:\nBacktrace:\n\tGetHandleVerifier [0x00007FF798944A62+57106]\n\t(No symbol) [0x00007FF7988BCF52]\n\t(No symbol) [0x00007FF79878E17D]\n\t(No symbol) [0x00007FF7987C2DE4]\n\t(No symbol) [0x00007FF7987C21A4]\n\t(No symbol) [0x00007FF7987E69BA]\n\t(No symbol) [0x00007FF7987BE746]\n\t(No symbol) [0x00007FF7987E6BD0]\n\t(No symbol) [0x00007FF7987FE522]\n\t(No symbol) [0x00007FF7987E6793]\n\t(No symbol) [0x00007FF7987BCE81]\n\t(No symbol) [0x00007FF7987BE064]\n\tGetHandleVerifier [0x00007FF798BF4222+2873042]\n\tGetHandleVerifier [0x00007FF798C46590+3209792]\n\tGetHandleVerifier [0x00007FF798C3F3AF+3180639]\n\tGetHandleVerifier [0x00007FF7989D5F25+652245]\n\t(No symbol) [0x00007FF7988C8618]\n\t(No symbol) [0x00007FF7988C47C4]\n\t(No symbol) [0x00007FF7988C48BC]\n\t(No symbol) [0x00007FF7988B4C33]\n\tBaseThreadInitThunk [0x00007FFD804926AD+29]\n\tRtlUserThreadStart [0x00007FFD81A8A9F8+40]\n",
     "output_type": "error",
     "traceback": [
      "\u001b[1;31m---------------------------------------------------------------------------\u001b[0m",
      "\u001b[1;31mElementNotInteractableException\u001b[0m           Traceback (most recent call last)",
      "Cell \u001b[1;32mIn[37], line 1\u001b[0m\n\u001b[1;32m----> 1\u001b[0m search_box[\u001b[39m0\u001b[39;49m]\u001b[39m.\u001b[39;49msend_keys(keyword)\n",
      "File \u001b[1;32mf:\\Python Project\\Jobs_Scriping\\.env\\lib\\site-packages\\selenium\\webdriver\\remote\\webelement.py:231\u001b[0m, in \u001b[0;36mWebElement.send_keys\u001b[1;34m(self, *value)\u001b[0m\n\u001b[0;32m    228\u001b[0m             remote_files\u001b[39m.\u001b[39mappend(\u001b[39mself\u001b[39m\u001b[39m.\u001b[39m_upload(file))\n\u001b[0;32m    229\u001b[0m         value \u001b[39m=\u001b[39m \u001b[39m\"\u001b[39m\u001b[39m\\n\u001b[39;00m\u001b[39m\"\u001b[39m\u001b[39m.\u001b[39mjoin(remote_files)\n\u001b[1;32m--> 231\u001b[0m \u001b[39mself\u001b[39;49m\u001b[39m.\u001b[39;49m_execute(\n\u001b[0;32m    232\u001b[0m     Command\u001b[39m.\u001b[39;49mSEND_KEYS_TO_ELEMENT, {\u001b[39m\"\u001b[39;49m\u001b[39mtext\u001b[39;49m\u001b[39m\"\u001b[39;49m: \u001b[39m\"\u001b[39;49m\u001b[39m\"\u001b[39;49m\u001b[39m.\u001b[39;49mjoin(keys_to_typing(value)), \u001b[39m\"\u001b[39;49m\u001b[39mvalue\u001b[39;49m\u001b[39m\"\u001b[39;49m: keys_to_typing(value)}\n\u001b[0;32m    233\u001b[0m )\n",
      "File \u001b[1;32mf:\\Python Project\\Jobs_Scriping\\.env\\lib\\site-packages\\selenium\\webdriver\\remote\\webelement.py:395\u001b[0m, in \u001b[0;36mWebElement._execute\u001b[1;34m(self, command, params)\u001b[0m\n\u001b[0;32m    393\u001b[0m     params \u001b[39m=\u001b[39m {}\n\u001b[0;32m    394\u001b[0m params[\u001b[39m\"\u001b[39m\u001b[39mid\u001b[39m\u001b[39m\"\u001b[39m] \u001b[39m=\u001b[39m \u001b[39mself\u001b[39m\u001b[39m.\u001b[39m_id\n\u001b[1;32m--> 395\u001b[0m \u001b[39mreturn\u001b[39;00m \u001b[39mself\u001b[39;49m\u001b[39m.\u001b[39;49m_parent\u001b[39m.\u001b[39;49mexecute(command, params)\n",
      "File \u001b[1;32mf:\\Python Project\\Jobs_Scriping\\.env\\lib\\site-packages\\selenium\\webdriver\\remote\\webdriver.py:345\u001b[0m, in \u001b[0;36mWebDriver.execute\u001b[1;34m(self, driver_command, params)\u001b[0m\n\u001b[0;32m    343\u001b[0m response \u001b[39m=\u001b[39m \u001b[39mself\u001b[39m\u001b[39m.\u001b[39mcommand_executor\u001b[39m.\u001b[39mexecute(driver_command, params)\n\u001b[0;32m    344\u001b[0m \u001b[39mif\u001b[39;00m response:\n\u001b[1;32m--> 345\u001b[0m     \u001b[39mself\u001b[39;49m\u001b[39m.\u001b[39;49merror_handler\u001b[39m.\u001b[39;49mcheck_response(response)\n\u001b[0;32m    346\u001b[0m     response[\u001b[39m\"\u001b[39m\u001b[39mvalue\u001b[39m\u001b[39m\"\u001b[39m] \u001b[39m=\u001b[39m \u001b[39mself\u001b[39m\u001b[39m.\u001b[39m_unwrap_value(response\u001b[39m.\u001b[39mget(\u001b[39m\"\u001b[39m\u001b[39mvalue\u001b[39m\u001b[39m\"\u001b[39m, \u001b[39mNone\u001b[39;00m))\n\u001b[0;32m    347\u001b[0m     \u001b[39mreturn\u001b[39;00m response\n",
      "File \u001b[1;32mf:\\Python Project\\Jobs_Scriping\\.env\\lib\\site-packages\\selenium\\webdriver\\remote\\errorhandler.py:229\u001b[0m, in \u001b[0;36mErrorHandler.check_response\u001b[1;34m(self, response)\u001b[0m\n\u001b[0;32m    227\u001b[0m         alert_text \u001b[39m=\u001b[39m value[\u001b[39m\"\u001b[39m\u001b[39malert\u001b[39m\u001b[39m\"\u001b[39m]\u001b[39m.\u001b[39mget(\u001b[39m\"\u001b[39m\u001b[39mtext\u001b[39m\u001b[39m\"\u001b[39m)\n\u001b[0;32m    228\u001b[0m     \u001b[39mraise\u001b[39;00m exception_class(message, screen, stacktrace, alert_text)  \u001b[39m# type: ignore[call-arg]  # mypy is not smart enough here\u001b[39;00m\n\u001b[1;32m--> 229\u001b[0m \u001b[39mraise\u001b[39;00m exception_class(message, screen, stacktrace)\n",
      "\u001b[1;31mElementNotInteractableException\u001b[0m: Message: element not interactable\n  (Session info: chrome=115.0.5790.170)\nStacktrace:\nBacktrace:\n\tGetHandleVerifier [0x00007FF798944A62+57106]\n\t(No symbol) [0x00007FF7988BCF52]\n\t(No symbol) [0x00007FF79878E17D]\n\t(No symbol) [0x00007FF7987C2DE4]\n\t(No symbol) [0x00007FF7987C21A4]\n\t(No symbol) [0x00007FF7987E69BA]\n\t(No symbol) [0x00007FF7987BE746]\n\t(No symbol) [0x00007FF7987E6BD0]\n\t(No symbol) [0x00007FF7987FE522]\n\t(No symbol) [0x00007FF7987E6793]\n\t(No symbol) [0x00007FF7987BCE81]\n\t(No symbol) [0x00007FF7987BE064]\n\tGetHandleVerifier [0x00007FF798BF4222+2873042]\n\tGetHandleVerifier [0x00007FF798C46590+3209792]\n\tGetHandleVerifier [0x00007FF798C3F3AF+3180639]\n\tGetHandleVerifier [0x00007FF7989D5F25+652245]\n\t(No symbol) [0x00007FF7988C8618]\n\t(No symbol) [0x00007FF7988C47C4]\n\t(No symbol) [0x00007FF7988C48BC]\n\t(No symbol) [0x00007FF7988B4C33]\n\tBaseThreadInitThunk [0x00007FFD804926AD+29]\n\tRtlUserThreadStart [0x00007FFD81A8A9F8+40]\n"
     ]
    }
   ],
   "source": [
    "search_box[0].send_keys(keyword)"
   ]
  }
 ],
 "metadata": {
  "kernelspec": {
   "display_name": ".env",
   "language": "python",
   "name": "python3"
  },
  "language_info": {
   "codemirror_mode": {
    "name": "ipython",
    "version": 3
   },
   "file_extension": ".py",
   "mimetype": "text/x-python",
   "name": "python",
   "nbconvert_exporter": "python",
   "pygments_lexer": "ipython3",
   "version": "3.10.6"
  },
  "orig_nbformat": 4
 },
 "nbformat": 4,
 "nbformat_minor": 2
}
