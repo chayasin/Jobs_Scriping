{
 "cells": [
  {
   "cell_type": "code",
   "execution_count": 52,
   "metadata": {},
   "outputs": [],
   "source": [
    "from selenium import webdriver\n",
    "from selenium.webdriver.common.keys import Keys\n",
    "from selenium.webdriver.common.by import By\n",
    "\n",
    "import pandas as pd"
   ]
  },
  {
   "cell_type": "code",
   "execution_count": null,
   "metadata": {},
   "outputs": [],
   "source": []
  },
  {
   "cell_type": "code",
   "execution_count": 46,
   "metadata": {},
   "outputs": [],
   "source": [
    "th_months = {\n",
    "    \"ม.ค.\": \"01\",\n",
    "    \"ก.พ.\": \"02\",\n",
    "    \"มี.ค.\":  \"03\",\n",
    "    \"เม.ย.\": \"04\",\n",
    "    \"พ.ค.\":  \"05\",\n",
    "    \"มิ.ย.\":  \"06\",\n",
    "    \"ก.ค.\":  \"07\",\n",
    "    \"ส.ค.\":  \"08\",\n",
    "    \"ก.ย.\":  \"09\",\n",
    "    \"ต.ค.\":  \"10\",\n",
    "    \"พ.ย.\":  \"11\",\n",
    "    \"ธ.ค.\":  \"12\"\n",
    "}\n"
   ]
  },
  {
   "cell_type": "code",
   "execution_count": 58,
   "metadata": {},
   "outputs": [],
   "source": [
    "def str_to_date(date_str: str):\n",
    "    date_list = date_str.split(\" \")\n",
    "    day = date_list[0] # NOTE: add leading zero\n",
    "    month = th_months[date_list[1]]\n",
    "    year = str(int(date_list[2])+1957)\n",
    "    return year + str(month) + day"
   ]
  },
  {
   "cell_type": "code",
   "execution_count": 56,
   "metadata": {},
   "outputs": [],
   "source": [
    "date_ = []\n",
    "position_ = []\n",
    "company_ = []\n",
    "location_ = []\n",
    "salary_ = []\n",
    "link_ = []"
   ]
  },
  {
   "cell_type": "code",
   "execution_count": 60,
   "metadata": {},
   "outputs": [],
   "source": [
    "driver = webdriver.Chrome()"
   ]
  },
  {
   "cell_type": "code",
   "execution_count": 61,
   "metadata": {},
   "outputs": [],
   "source": [
    "url = \"https://www.jobthai.com/th/jobs?keyword=data+scientist&page=\""
   ]
  },
  {
   "cell_type": "code",
   "execution_count": 63,
   "metadata": {},
   "outputs": [],
   "source": [
    "page_number = 0\n",
    "\n",
    "max_page_number = 20\n",
    "\n",
    "while page_number < max_page_number:\n",
    "    page_number = page_number + 1\n",
    "    \n",
    "    driver.get(url + str(page_number))\n",
    "    \n",
    "    job_class = \"ant-row msklqa-8\".replace(\" \",\".\")\n",
    "    jobs = driver.find_elements(By.CLASS_NAME, job_class)\n",
    "    \n",
    "    if len(jobs) == 0:\n",
    "        break\n",
    "    \n",
    "    for job in jobs:\n",
    "        date, position, company, location, salary = job.text.split(\"\\n\")[1:6]\n",
    "        link = job.find_element(By.TAG_NAME,\"a\").get_attribute(\"href\")\n",
    "        \n",
    "        date_.append(str_to_date(date))\n",
    "        position_.append(position)\n",
    "        company_.append(company)\n",
    "        location_.append(location)\n",
    "        salary_.append(salary)\n",
    "        link_.append(link)\n",
    "    "
   ]
  },
  {
   "cell_type": "code",
   "execution_count": null,
   "metadata": {},
   "outputs": [],
   "source": [
    "for link"
   ]
  },
  {
   "cell_type": "code",
   "execution_count": 64,
   "metadata": {},
   "outputs": [],
   "source": [
    "jobs = pd.DataFrame({\n",
    "    \"date\": date_,\n",
    "    \"position\": position_,\n",
    "    \"company\": company_,\n",
    "    \"salary\": salary_,\n",
    "    \"location\": location_,\n",
    "    \"link\": link_\n",
    "})"
   ]
  },
  {
   "cell_type": "code",
   "execution_count": 66,
   "metadata": {},
   "outputs": [
    {
     "data": {
      "text/html": [
       "<div>\n",
       "<style scoped>\n",
       "    .dataframe tbody tr th:only-of-type {\n",
       "        vertical-align: middle;\n",
       "    }\n",
       "\n",
       "    .dataframe tbody tr th {\n",
       "        vertical-align: top;\n",
       "    }\n",
       "\n",
       "    .dataframe thead th {\n",
       "        text-align: right;\n",
       "    }\n",
       "</style>\n",
       "<table border=\"1\" class=\"dataframe\">\n",
       "  <thead>\n",
       "    <tr style=\"text-align: right;\">\n",
       "      <th></th>\n",
       "      <th>date</th>\n",
       "      <th>position</th>\n",
       "      <th>company</th>\n",
       "      <th>salary</th>\n",
       "      <th>location</th>\n",
       "      <th>link</th>\n",
       "    </tr>\n",
       "  </thead>\n",
       "  <tbody>\n",
       "    <tr>\n",
       "      <th>0</th>\n",
       "      <td>2023083</td>\n",
       "      <td>Data Scientist</td>\n",
       "      <td>บริษัท บางกอกสหประกันภัย จำกัด (มหาชน)</td>\n",
       "      <td>MRT สามย่าน</td>\n",
       "      <td>BTS ช่องนนทรี, ศาลาแดง</td>\n",
       "      <td>https://www.jobthai.com/th/company/job/1484583</td>\n",
       "    </tr>\n",
       "    <tr>\n",
       "      <th>1</th>\n",
       "      <td>2023082</td>\n",
       "      <td>Data Scientist</td>\n",
       "      <td>SHIPPOP. CO,. LTD.</td>\n",
       "      <td>N/A</td>\n",
       "      <td>เขตราชเทวี กรุงเทพมหานคร</td>\n",
       "      <td>https://www.jobthai.com/th/company/job/1307754</td>\n",
       "    </tr>\n",
       "  </tbody>\n",
       "</table>\n",
       "</div>"
      ],
      "text/plain": [
       "      date        position                                 company  \\\n",
       "0  2023083  Data Scientist  บริษัท บางกอกสหประกันภัย จำกัด (มหาชน)   \n",
       "1  2023082  Data Scientist                      SHIPPOP. CO,. LTD.   \n",
       "\n",
       "        salary                  location  \\\n",
       "0  MRT สามย่าน    BTS ช่องนนทรี, ศาลาแดง   \n",
       "1          N/A  เขตราชเทวี กรุงเทพมหานคร   \n",
       "\n",
       "                                             link  \n",
       "0  https://www.jobthai.com/th/company/job/1484583  \n",
       "1  https://www.jobthai.com/th/company/job/1307754  "
      ]
     },
     "execution_count": 66,
     "metadata": {},
     "output_type": "execute_result"
    }
   ],
   "source": [
    "jobs.head(2)"
   ]
  },
  {
   "cell_type": "code",
   "execution_count": 67,
   "metadata": {},
   "outputs": [],
   "source": [
    "driver_2 = webdriver.Chrome()"
   ]
  },
  {
   "cell_type": "code",
   "execution_count": 68,
   "metadata": {},
   "outputs": [],
   "source": [
    "driver_2.get(\"https://www.jobthai.com/th/company/job/1484583\")"
   ]
  },
  {
   "cell_type": "code",
   "execution_count": 72,
   "metadata": {},
   "outputs": [],
   "source": [
    "detail_button = driver_2.find_element(By.CLASS_NAME,\"sc-1048v4y-12.ikhRNK\")"
   ]
  },
  {
   "cell_type": "code",
   "execution_count": 71,
   "metadata": {},
   "outputs": [],
   "source": [
    "detail_button.click()"
   ]
  }
 ],
 "metadata": {
  "kernelspec": {
   "display_name": ".env",
   "language": "python",
   "name": "python3"
  },
  "language_info": {
   "codemirror_mode": {
    "name": "ipython",
    "version": 3
   },
   "file_extension": ".py",
   "mimetype": "text/x-python",
   "name": "python",
   "nbconvert_exporter": "python",
   "pygments_lexer": "ipython3",
   "version": "3.10.6"
  },
  "orig_nbformat": 4
 },
 "nbformat": 4,
 "nbformat_minor": 2
}
